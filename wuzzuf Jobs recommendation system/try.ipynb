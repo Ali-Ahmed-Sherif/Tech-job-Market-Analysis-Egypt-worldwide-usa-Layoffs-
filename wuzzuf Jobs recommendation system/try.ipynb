{
 "cells": [
  {
   "cell_type": "code",
   "execution_count": null,
   "id": "c64d8af8",
   "metadata": {},
   "outputs": [],
   "source": []
  },
  {
   "cell_type": "code",
   "execution_count": 1,
   "id": "823d4985",
   "metadata": {},
   "outputs": [],
   "source": [
    "import pandas as pd\n",
    "import re\n",
    "import joblib\n",
    "from nltk.tokenize import word_tokenize\n",
    "from nltk.stem import WordNetLemmatizer\n",
    "from nltk.corpus import stopwords\n",
    "from sklearn.feature_extraction.text import TfidfVectorizer\n",
    "\n"
   ]
  },
  {
   "cell_type": "code",
   "execution_count": 2,
   "id": "f73f0818",
   "metadata": {},
   "outputs": [],
   "source": [
    "import re\n",
    "\n",
    "manual_stopwords = {\n",
    "    'a', 'an', 'and', 'are', 'as', 'at', 'be', 'but', 'by', 'for',\n",
    "    'if', 'in', 'into', 'is', 'it', 'no', 'not', 'of', 'on', 'or',\n",
    "    'such', 'that', 'the', 'their', 'then', 'there', 'these', 'they',\n",
    "    'this', 'to', 'was', 'will', 'with', 'you', 'your'\n",
    "}\n",
    "\n",
    "def clean_skills(text):\n",
    "    if not isinstance(text, str) or not text.strip():\n",
    "        return \"\"\n",
    "\n",
    "    # Lowercase\n",
    "    text = text.lower()\n",
    "\n",
    "    # Replace non-alphanumeric characters with space\n",
    "    text = re.sub(r\"[^\\w\\s]\", \" \", text)\n",
    "\n",
    "    # Remove extra spaces\n",
    "    text = re.sub(r\"\\s+\", \" \", text).strip()\n",
    "\n",
    "    # Tokenize by splitting and remove stopwords\n",
    "    tokens = [word for word in text.split() if word not in manual_stopwords]\n",
    "\n",
    "    return \" \".join(tokens)\n"
   ]
  },
  {
   "cell_type": "code",
   "execution_count": 3,
   "id": "e214b821",
   "metadata": {},
   "outputs": [],
   "source": [
    "\n",
    "df = pd.read_excel(\"Cleaned_Dataset_for_taison.xlsx\", sheet_name=\"Fact_Wuzzuf\")\n",
    "df[\"Cleaned_Skills\"] = df[\"Skills\"].apply(clean_skills)\n",
    "df.drop_duplicates(subset=[\"Job Title\", \"Job Position\", \"Company\", \"Link\"], inplace=True)\n",
    "\n"
   ]
  },
  {
   "cell_type": "code",
   "execution_count": 5,
   "id": "46cd2ae4",
   "metadata": {},
   "outputs": [
    {
     "name": "stdout",
     "output_type": "stream",
     "text": [
      "✅ TF-IDF Matrix created.\n",
      "➡️ Number of jobs: 2638\n",
      "➡️ Number of unique skill features: 1323\n",
      "\n",
      "Some of the features (skills):\n",
      "['administrative' 'administrator' 'adminstration' 'adobe' 'adope' 'ads'\n",
      " 'advanced' 'advertising' 'advising' 'advisor' 'adwords' 'affairs' 'after'\n",
      " 'aftereffect' 'agencies' 'agent' 'agentic' 'agile' 'agriculture' 'ai'\n",
      " 'aicerts' 'aid' 'air' 'airline' 'alarm' 'alexandria' 'align' 'aligning'\n",
      " 'allocation' 'alsadat']\n"
     ]
    }
   ],
   "source": [
    "import joblib\n",
    "from sklearn.feature_extraction.text import TfidfVectorizer\n",
    "from sklearn.metrics.pairwise import cosine_similarity\n",
    "tfidf = TfidfVectorizer()\n",
    "tfidf_matrix = tfidf.fit_transform(df[\"Cleaned_Skills\"])\n",
    "\n",
    "\n",
    "print(\"✅ TF-IDF Matrix created.\")\n",
    "print(f\"➡️ Number of jobs: {tfidf_matrix.shape[0]}\")\n",
    "print(f\"➡️ Number of unique skill features: {tfidf_matrix.shape[1]}\")\n",
    "print(\"\\nSome of the features (skills):\")\n",
    "print(tfidf.get_feature_names_out()[30:60])"
   ]
  },
  {
   "cell_type": "code",
   "execution_count": 6,
   "id": "cd34a83c",
   "metadata": {},
   "outputs": [
    {
     "name": "stdout",
     "output_type": "stream",
     "text": [
      "🔍 Cleaned: machine learning\n"
     ]
    }
   ],
   "source": [
    "# === Step 4: Try user input ===\n",
    "user_input = input(\"\\n💬 Enter your skills: \")\n",
    "user_cleaned = clean_skills(user_input)\n",
    "print(f\"🔍 Cleaned: {user_cleaned}\")\n",
    "\n",
    "user_vec = tfidf.transform([user_cleaned])"
   ]
  },
  {
   "cell_type": "code",
   "execution_count": 7,
   "id": "3ace988c",
   "metadata": {},
   "outputs": [
    {
     "name": "stdout",
     "output_type": "stream",
     "text": [
      "\n",
      "✅ Non-zero features in your input:\n",
      " - machine\n",
      " - learning\n"
     ]
    }
   ],
   "source": [
    "print(\"\\n✅ Non-zero features in your input:\")\n",
    "feature_names = tfidf.get_feature_names_out()\n",
    "nonzero_indices = user_vec.nonzero()[1]\n",
    "for idx in nonzero_indices:\n",
    "    print(f\" - {feature_names[idx]}\")"
   ]
  },
  {
   "cell_type": "code",
   "execution_count": 8,
   "id": "2bd5490a",
   "metadata": {},
   "outputs": [
    {
     "name": "stdout",
     "output_type": "stream",
     "text": [
      "✅ TF-IDF built.\n",
      "📄 Total jobs: 2638\n",
      "🧠 Unique skill tokens: 1323\n"
     ]
    }
   ],
   "source": [
    "print(\"✅ TF-IDF built.\")\n",
    "print(f\"📄 Total jobs: {tfidf_matrix.shape[0]}\")\n",
    "print(f\"🧠 Unique skill tokens: {tfidf_matrix.shape[1]}\")\n"
   ]
  },
  {
   "cell_type": "code",
   "execution_count": 9,
   "id": "144a1334",
   "metadata": {},
   "outputs": [
    {
     "name": "stdout",
     "output_type": "stream",
     "text": [
      "\n",
      "📝 Enter job filters (or leave blank to skip):\n"
     ]
    }
   ],
   "source": [
    "print(\"\\n📝 Enter job filters (or leave blank to skip):\")\n",
    "city = input(\"City: \").strip()\n",
    "job_type = input(\"Job Type (Full Time / Part Time): \").strip()\n",
    "work_mode = input(\"Work Mode (Remote / On-site / Hybrid): \").strip()\n",
    "min_exp_str = input(\"Minimum years of experience: \").strip()\n",
    "user_skills = input(\"\\n💬 Enter your skills (comma-separated): \")\n",
    "\n",
    "min_exp = int(min_exp_str) if min_exp_str.isdigit() else None"
   ]
  },
  {
   "cell_type": "code",
   "execution_count": 10,
   "id": "93b0b0aa",
   "metadata": {},
   "outputs": [],
   "source": [
    "filtered_df = df.copy()\n",
    "\n",
    "if city:\n",
    "    filtered_df = filtered_df[filtered_df[\"City\"].str.lower() == city.lower()]\n",
    "if job_type:\n",
    "    filtered_df = filtered_df[filtered_df[\"Job Type\"].str.lower() == job_type.lower()]\n",
    "if work_mode:\n",
    "    filtered_df = filtered_df[filtered_df[\"Work Mode\"].str.lower() == work_mode.lower()]\n",
    "\n",
    "if min_exp:\n",
    "    def exp_filter(val):\n",
    "        if pd.isna(val) or val.lower().strip() == \"not mentioned\":\n",
    "            return True\n",
    "        match = re.findall(r\"\\d+\", val)\n",
    "        return int(match[0]) <= min_exp if match else True\n",
    "    filtered_df = filtered_df[filtered_df[\"Experience\"].apply(exp_filter)]\n",
    "\n",
    "if filtered_df.empty:\n",
    "    print(\"\\n❌ No jobs match your filters.\")\n",
    "    "
   ]
  },
  {
   "cell_type": "code",
   "execution_count": 11,
   "id": "e3346f67",
   "metadata": {},
   "outputs": [],
   "source": [
    "user_cleaned = clean_skills(user_skills)\n",
    "user_vec = tfidf.transform([user_cleaned])\n",
    "\n",
    "filtered_indices = filtered_df.index.tolist()\n",
    "filtered_df = filtered_df.reset_index(drop=True)\n",
    "filtered_tfidf = tfidf_matrix[filtered_df.index]\n",
    "\n",
    "similarities = cosine_similarity(user_vec, filtered_tfidf).flatten()\n",
    "filtered_df = filtered_df.copy()\n",
    "filtered_df[\"Match Score\"] = (similarities * 100).round(2)\n",
    "\n",
    "top_matches = filtered_df.sort_values(by=\"Match Score\", ascending=False).head(7)"
   ]
  },
  {
   "cell_type": "code",
   "execution_count": 12,
   "id": "a03cb52c",
   "metadata": {},
   "outputs": [
    {
     "name": "stdout",
     "output_type": "stream",
     "text": [
      "ai engineer – Product Manager – Data & AI Products\n",
      "🏢 Company Location: Cairo\n",
      "🧠 Required Skills: IT/Software Development · Communication · Computer Science · data-driven · Engineering · Information Technology (IT) · Management · Product Management · SQL · Product Strategy & Roadmapping\n",
      "📌 Match Score: 56.51%\n",
      "🔗 Link: https://wuzzuf.net/jobs/p/7qu8aw9vozor-product-manager-data-ai-products-hiremoters-cairo-egypt\n",
      "------------------------------------------------------------\n",
      "ai engineer – Business Analyst – AI & Web3\n",
      "🏢 Company Location: Cairo\n",
      "🧠 Required Skills: IT/Software Development · Project/Program Management · Business Analysis · Information Technology (IT) · Project Management · Software Testing · Communication skills · analytical · Agile\n",
      "📌 Match Score: 56.07%\n",
      "🔗 Link: https://wuzzuf.net/jobs/p/3z7mhjvlnvii-business-analyst-–-ai-web3-kaiizn-llc-cairo-egypt\n",
      "------------------------------------------------------------\n",
      "sales representative – Inbound Telesales Agent\n",
      "🏢 Company Location: Cairo\n",
      "🧠 Required Skills: males_only · Accounting/Finance · IT/Software Development · Sales/Retail · Accounting · Sales · Finance · Accounts Payable · Sales Field · Telesales · Telemarketing\n",
      "📌 Match Score: 49.7%\n",
      "🔗 Link: https://wuzzuf.net/jobs/p/g1elyszsb3cm-inbound-telesales-agent-alostaz---الأستاذ-cairo-egypt\n",
      "------------------------------------------------------------\n",
      "software developer – Front End Developer\n",
      "🏢 Company Location: Nasr City\n",
      "🧠 Required Skills: IT/Software Development · backend · coding · Design · Development · Software · Software Engineering · Agile · Computer Science · Front end\n",
      "📌 Match Score: 48.5%\n",
      "🔗 Link: https://wuzzuf.net/jobs/p/ur3hxxfr7dvx-front-end-developer-ajwaa-trablus-cairo-egypt\n",
      "------------------------------------------------------------\n",
      "Media Buyer – Media Buyer\n",
      "🏢 Company Location: Cairo\n",
      "🧠 Required Skills: Marketing/PR/Advertising · Media/Journalism/Publishing · Google Ads · Digital Marketing · Social Media · campaigns · Google Analytics · Performance Management · E-Commerce · social\n",
      "📌 Match Score: 43.23%\n",
      "🔗 Link: https://wuzzuf.net/jobs/p/JhQpTbCE8JcE-Media-Buyer-Callvita-Cairo-Egypt\n",
      "------------------------------------------------------------\n",
      "administrative executive – Administrative Assistant\n",
      "🏢 Company Location: Nasr City\n",
      "🧠 Required Skills: Administration · Customer Service/Support · Operations/Management · Arabic · English · Communication · Microsoft Office · Secretary · Management · ERP\n",
      "📌 Match Score: 43.14%\n",
      "🔗 Link: https://wuzzuf.net/jobs/p/jgxzajwxa1a8-administrative-assistant-furqan-group-for-education-it-cairo-egypt\n",
      "------------------------------------------------------------\n",
      "full-stack engineer – Full Stack Developer\n",
      "🏢 Company Location: Cairo\n",
      "🧠 Required Skills: IT/Software Development · Node.js · REST · back-end · front-end · React · Information Technology (IT) · Development · Computer Science · JavaScript\n",
      "📌 Match Score: 39.37%\n",
      "🔗 Link: https://wuzzuf.net/jobs/p/0zezu9fmd0an-full-stack-developer-cairo-egypt\n",
      "------------------------------------------------------------\n"
     ]
    }
   ],
   "source": [
    "for i, row in top_matches.iterrows():\n",
    "    print(f\"{row['Job Title']} – {row['Job Position']}\")\n",
    "    print(f\"🏢 Company Location: {row['CompanyLocation']}\")\n",
    "    print(f\"🧠 Required Skills: {row['Skills']}\")\n",
    "    print(f\"📌 Match Score: {row['Match Score']}%\")\n",
    "    print(f\"🔗 Link: {row['Link']}\")\n",
    "    print(\"-\" * 60)\n"
   ]
  },
  {
   "cell_type": "code",
   "execution_count": 25,
   "id": "26ca7759",
   "metadata": {},
   "outputs": [
    {
     "name": "stdout",
     "output_type": "stream",
     "text": [
      "analyst research power bi data analysis ssis sql python\n"
     ]
    }
   ],
   "source": [
    "w = df.loc[df['Job Title'] == 'data analyst', 'Cleaned_Skills']\n",
    "if not w.empty:\n",
    "    print(w.loc[0])\n",
    "else:\n",
    "    print(\"No matching job found.\")\n"
   ]
  }
 ],
 "metadata": {
  "kernelspec": {
   "display_name": "Python 3",
   "language": "python",
   "name": "python3"
  },
  "language_info": {
   "codemirror_mode": {
    "name": "ipython",
    "version": 3
   },
   "file_extension": ".py",
   "mimetype": "text/x-python",
   "name": "python",
   "nbconvert_exporter": "python",
   "pygments_lexer": "ipython3",
   "version": "3.8.10"
  }
 },
 "nbformat": 4,
 "nbformat_minor": 5
}
